{
  "nbformat": 4,
  "nbformat_minor": 0,
  "metadata": {
    "colab": {
      "provenance": []
    },
    "kernelspec": {
      "name": "python3",
      "display_name": "Python 3"
    },
    "language_info": {
      "name": "python"
    }
  },
  "cells": [
    {
      "cell_type": "code",
      "execution_count": 1,
      "metadata": {
        "colab": {
          "base_uri": "https://localhost:8080/"
        },
        "id": "Bx056Ju4gZiq",
        "outputId": "1934c99d-f6cb-415b-8800-56b87b7bdf4e"
      },
      "outputs": [
        {
          "output_type": "stream",
          "name": "stdout",
          "text": [
            "10\n"
          ]
        }
      ],
      "source": [
        "def sum_two_numbers(x, y):\n",
        "    return x + y\n",
        "# Random example\n",
        "x = 9\n",
        "y = 1\n",
        "result = sum_two_numbers(x, y)\n",
        "print(result)"
      ]
    },
    {
      "cell_type": "code",
      "source": [
        "def sum_three_numbers(x, y, z):\n",
        "    return x + y + z\n",
        "# Random example\n",
        "x = 10\n",
        "y = 20\n",
        "z = 30\n",
        "result = sum_three_numbers(x, y, z)\n",
        "print(result)"
      ],
      "metadata": {
        "colab": {
          "base_uri": "https://localhost:8080/"
        },
        "id": "3o47vr41gduy",
        "outputId": "ebacacf1-18a7-4153-a011-af54a0fa56dc"
      },
      "execution_count": 2,
      "outputs": [
        {
          "output_type": "stream",
          "name": "stdout",
          "text": [
            "60\n"
          ]
        }
      ]
    },
    {
      "cell_type": "code",
      "source": [
        "def find_max(items):\n",
        "    return max(items)\n",
        "# Given list\n",
        "items = [3, 5, 1, 6, 99, 6]\n",
        "result = find_max(items)\n",
        "print(result)"
      ],
      "metadata": {
        "colab": {
          "base_uri": "https://localhost:8080/"
        },
        "id": "Yi1OuC08gim8",
        "outputId": "c38780d8-a499-4ab9-93f7-20d766bbb71f"
      },
      "execution_count": 3,
      "outputs": [
        {
          "output_type": "stream",
          "name": "stdout",
          "text": [
            "99\n"
          ]
        }
      ]
    },
    {
      "cell_type": "code",
      "source": [
        "def find_min(items):\n",
        "    return min(items)\n",
        "# Given list\n",
        "items = [3, 5, 1, 6, 99, 6]\n",
        "result = find_min(items)\n",
        "print(result)"
      ],
      "metadata": {
        "colab": {
          "base_uri": "https://localhost:8080/"
        },
        "id": "7FXEWXwXgmkW",
        "outputId": "a9b32d4d-c082-4447-c6a1-30928906048c"
      },
      "execution_count": 4,
      "outputs": [
        {
          "output_type": "stream",
          "name": "stdout",
          "text": [
            "1\n"
          ]
        }
      ]
    }
  ]
}